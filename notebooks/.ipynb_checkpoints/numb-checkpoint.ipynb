{
 "cells": [
  {
   "cell_type": "code",
   "execution_count": 1,
   "metadata": {},
   "outputs": [
    {
     "data": {
      "text/plain": [
       "{ getShape: [Function: getShape],\n",
       "  getSpace: [Function: getSpace],\n",
       "  getVolume: [Function: getVolume],\n",
       "  getVolumIndex: [Function: getVolumIndex],\n",
       "  clone: [Function: clone],\n",
       "  remapSelect: [Function: remapSelect],\n",
       "  indexGenerator: [GeneratorFunction: indexGenerator],\n",
       "  axisGenerator: [GeneratorFunction: axisGenerator],\n",
       "  enummerate: [GeneratorFunction: enummerate],\n",
       "  ravel: [Function: ravel],\n",
       "  range: [Function: range],\n",
       "  shape: [Function: shape] }"
      ]
     },
     "execution_count": 1,
     "metadata": {},
     "output_type": "execute_result"
    }
   ],
   "source": [
    "nd = require('../src/numb/ndarray');\n",
    "// Numb = require('../src/numb/numb');\n",
    "// Autograd = require('../src/numb/autograd/autograd');\n",
    "// Ops  = require('../src/numb/operators');\n",
    "// GradOps = require('../src/numb/autograd/gradOps');"
   ]
  },
  {
   "cell_type": "code",
   "execution_count": 9,
   "metadata": {},
   "outputs": [
    {
     "data": {
      "text/plain": [
       "{ get: [Function: get], set: [Function: set] }"
      ]
     },
     "execution_count": 9,
     "metadata": {},
     "output_type": "execute_result"
    }
   ],
   "source": [
    "Selector = {\n",
    "  get:function(d, selectString){\n",
    "    console.warn( d, selectString );\n",
    "    return d;\n",
    "  },\n",
    "  set:function(d, selectString, newValue){\n",
    "    console.warn( d, selectString, newValue );\n",
    "    return d;\n",
    "  }\n",
    "}\n",
    "function numb(value, shape){\n",
    "  if(shape) {\n",
    "    this.shape  = shape;\n",
    "    this.volume = nd.getVolume(this.shape);\n",
    "    this.space  = nd.getSpace(this.shape);\n",
    "    if(Number.parseFloat(value)){\n",
    "      let fvalue = Number.parseFloat(value);\n",
    "      this.value = new Float32Array(this.volume);\n",
    "      this.value.map((d)=>d = fvalue);\n",
    "    }\n",
    "    else{\n",
    "      //TODO: it assumes value is float32array which is not safe\n",
    "      console.warn('sdfsdf=========ee=====', value)\n",
    "      this.value  = value;\n",
    "    }\n",
    "  }\n",
    "  else if(value.length){\n",
    "    // console.warn('value', value);\n",
    "    const _shape  = nd.getShape(value);\n",
    "    this.shape    = nd.clone(_shape);\n",
    "    this.volume = nd.getVolume(this.shape);\n",
    "    this.space  = nd.getSpace(this.shape);\n",
    "    this.value  = new Float32Array(this.volume);\n",
    "    const selector = this.shape.map(d=>[0,d,1]);\n",
    "    for( let [px,c] of nd.enummerate(nd.indexGenerator(selector, this.space)) ){\n",
    "      let idx = px.idx, vx = px.vx;\n",
    "      this.value[c] = idx.reduce((v,i)=>v[i],value);\n",
    "    }\n",
    "  }\n",
    "  else{\n",
    "    //TODO: this is op instance\n",
    "    throw Error('not support type');\n",
    "  }\n",
    "  this.type = 'Numb'\n",
    "//   this = new Proxy({v:this.value, sh:this.shape, sp: this.space}, Selector);\n",
    "}\n",
    "function Numb(value, shape){\n",
    "  if(!Array.isArray(shape)){ shape = null }\n",
    "  console.warn(value, shape);\n",
    "  return new Proxynew numb(value, shape);\n",
    "}"
   ]
  },
  {
   "cell_type": "code",
   "execution_count": 5,
   "metadata": {},
   "outputs": [
    {
     "name": "stderr",
     "output_type": "stream",
     "text": [
      "Float32Array [ 0, 0, 0, 0, 0, 0 ] [ 2, 3 ]\n",
      "sdfsdf=========ee===== Float32Array [ 0, 0, 0, 0, 0, 0 ]\n",
      "sdfsdf=========ee===== Float32Array [ 0, 0, 0, 0, 0, 0 ]\n",
      "sdfsdf=========ee===== Float32Array [ 0, 0, 0 ]\n",
      "sdfsdf=========ee===== Float32Array [ 0, 0, 0, 0, 0, 0 ]\n"
     ]
    },
    {
     "data": {
      "text/plain": [
       "numb {\n",
       "  shape: [ 2, 3 ],\n",
       "  volume: 6,\n",
       "  space: [ 3, 1 ],\n",
       "  value: Float32Array [ 0, 0, 0, 0, 0, 0 ],\n",
       "  type: 'Numb',\n",
       "  v: \n",
       "   { v: Float32Array [ 0, 0, 0, 0, 0, 0 ],\n",
       "     sh: [ 2, 3 ],\n",
       "     sp: [ 3, 1 ] } }"
      ]
     },
     "execution_count": 5,
     "metadata": {},
     "output_type": "execute_result"
    }
   ],
   "source": [
    "v = new Float32Array(6)\n",
    "a = Numb([1,2,3,4,5,6],[2,3])"
   ]
  },
  {
   "cell_type": "code",
   "execution_count": 23,
   "metadata": {},
   "outputs": [
    {
     "data": {
      "text/plain": [
       "{ get: [Function: get], set: [Function: set] }"
      ]
     },
     "execution_count": 23,
     "metadata": {},
     "output_type": "execute_result"
    }
   ],
   "source": [
    "sel2 = Selector = {\n",
    "  get:function(d, selectString){\n",
    "      console.warn(d, selectString)\n",
    "  },\n",
    "  set:function(d,selectString, newValue){\n",
    "      console.warn(selectString)\n",
    "     return d;\n",
    "  }\n",
    "}   \n",
    "function b2(v,s){\n",
    "    this.v = v\n",
    "    this.s = s\n",
    "}\n",
    "function B2(v,s){\n",
    "    return new Proxy(new b2(v,s), sel2);\n",
    "}"
   ]
  },
  {
   "cell_type": "code",
   "execution_count": 24,
   "metadata": {},
   "outputs": [
    {
     "name": "stderr",
     "output_type": "stream",
     "text": [
      "b2 { v: 3, s: 4 } '_toMime'\n",
      "b2 { v: 3, s: 4 } Symbol(util.inspect.custom)\n",
      "b2 { v: 3, s: 4 } 'inspect'\n",
      "b2 { v: 3, s: 4 } 'valueOf'\n",
      "b2 { v: 3, s: 4 } Symbol(Symbol.toStringTag)\n",
      "b2 { v: 3, s: 4 } '_toHtml'\n",
      "b2 { v: 3, s: 4 } '_toSvg'\n",
      "b2 { v: 3, s: 4 } '_toPng'\n",
      "b2 { v: 3, s: 4 } '_toJpeg'\n"
     ]
    },
    {
     "data": {
      "text/plain": [
       "b2 { v: 3, s: 4 }"
      ]
     },
     "execution_count": 24,
     "metadata": {},
     "output_type": "execute_result"
    }
   ],
   "source": [
    "v1 = B2(3,4)"
   ]
  },
  {
   "cell_type": "code",
   "execution_count": 30,
   "metadata": {},
   "outputs": [
    {
     "name": "stderr",
     "output_type": "stream",
     "text": [
      "b2 { v: 3, s: 4 } '[object Object]'\n"
     ]
    }
   ],
   "source": [
    "v1[{1,2,2}]"
   ]
  },
  {
   "cell_type": "code",
   "execution_count": null,
   "metadata": {},
   "outputs": [],
   "source": []
  },
  {
   "cell_type": "code",
   "execution_count": null,
   "metadata": {},
   "outputs": [],
   "source": []
  },
  {
   "cell_type": "code",
   "execution_count": null,
   "metadata": {},
   "outputs": [],
   "source": [
    "GradOps.dot = (ret, nbA, nbB)=>{\n",
    "  let nbs = [nbA, nbB];\n",
    "  const nbA_grad = (ret, nbA)=>{\n",
    "      let _sh = nbA.shape.map((d,i)=>i);\n",
    "      let Taxis = [..._sh.slice(0,-2), ..._sh.slice(-1), ..._sh.slice(-2,-1)];\n",
    "      let retGrad = Ops.dot(Ops.T(nbA, Taxis), ret); \n",
    "      return Ops.T(retGrad, Taxis);\n",
    "  }\n",
    "  \n",
    "  const nbB_grad = (ret, nbB)=>{\n",
    "      let _sh = nbA.shape.map((d,i)=>i);\n",
    "      let Taxis = [..._sh.slice(0,-2), ..._sh.slice(-1), ..._sh.slice(-2,-1)];\n",
    "      let retGrad = Ops.dot(Ops.T(nbA, Taxis), ret); \n",
    "      return retGrad;\n",
    "  }\n",
    "\n",
    "  const transformRet = ( ret, op_inputs )=>{\n",
    "    let rS = ret.shape.slice();\n",
    "    let nbA = op_inputs[0], nbB = op_inputs[1];\n",
    "    if(rS.length <= 2){\n",
    "        return ret;\n",
    "    }\n",
    "    else{\n",
    "//         console.warn(op_inputs, nbA, nbB);\n",
    "        let AShLen  = nbA.shape.length, BShLen = nbB.shape.length;\n",
    "        let _selAxis = [AShLen>2?(AShLen-2):0, rS.length - 1];\n",
    "        let [selAxis, newShape] = rS.reduce((ss,d,i)=>{\n",
    "                 if(_selAxis.indexOf(i)==-1){ ss[0] = [...ss[0],i] }\n",
    "                 else{ ss[1] = [...ss[1],d] }\n",
    "                 return ss;\n",
    "            },[[],[]])\n",
    "        let newValue = new Float32Array(nd.getVolume(newShape));\n",
    "        let reformedRet = Numb(newValue, newShape );  \n",
    "        for(idx of nd.axisGenerator(selAxis, ret.shape)){\n",
    "            reformedRet = Ops.add(reformedRet, ret.v[idx]) \n",
    "        }\n",
    "//         console.warn(reformedRet)\n",
    "        return reformedRet;\n",
    "    }       \n",
    "  }\n",
    "  ret.transformRet = transformRet;\n",
    "  ret.grad = nbs.map((nb, i)=>{\n",
    "      const _bw  = nb.grad?nb:null;\n",
    "      const _vjp = (i===0)?nbA_grad:nbB_grad;\n",
    "      const _vid = 0;//nb.grad[0].vid;\n",
    "      return { bw: _bw, vid: _vid, vjp: _vjp, op_inputs: nbs };\n",
    "  });\n",
    "  return ret;\n",
    "}"
   ]
  },
  {
   "cell_type": "code",
   "execution_count": null,
   "metadata": {},
   "outputs": [],
   "source": [
    "Autograd.Operators = {};\n",
    "for(let opName in Ops){\n",
    "  const _OpFunc = Ops[opName];\n",
    "  const appendGradOp = (...inputs)=>{\n",
    "    let stopGrad = false;\n",
    "    const [ last ] = inputs.slice(-1);\n",
    "    if(typeof last === 'boolean'){\n",
    "      stopGrad = last;//either true or false\n",
    "      inputs = inputs.slice(0,-1);\n",
    "    }\n",
    "    let ret = _OpFunc(...inputs);\n",
    "    if(stopGrad === true){\n",
    "      return ret;\n",
    "    }\n",
    "    else{\n",
    "      if(GradOps[opName] === undefined){\n",
    "        throw Error(`gradOp[${opName}] Not implement`);\n",
    "      }\n",
    "      ret = GradOps[opName](ret, ...inputs);\n",
    "      return ret;\n",
    "    }\n",
    "  }\n",
    "  Autograd.Operators[opName] = appendGradOp\n",
    "}"
   ]
  },
  {
   "cell_type": "code",
   "execution_count": null,
   "metadata": {},
   "outputs": [],
   "source": [
    "nd$grad = Autograd.grad(Autograd.Operators.dot)\n",
    "            (nd$A.reshape([1,3,2]), nd$B.reshape([1,2,3]) );"
   ]
  },
  {
   "cell_type": "code",
   "execution_count": null,
   "metadata": {},
   "outputs": [],
   "source": [
    "nd$A = Numb([0,1,2,3,4,5]);\n",
    "nd$B = Numb([0,1,2,3,4,5]);"
   ]
  },
  {
   "cell_type": "code",
   "execution_count": null,
   "metadata": {},
   "outputs": [],
   "source": [
    "_sh = [1,4]\n",
    "sh = [..._sh.slice(0,-2), ..._sh.slice(-1), ..._sh.slice(-2,-1)];"
   ]
  },
  {
   "cell_type": "code",
   "execution_count": null,
   "metadata": {},
   "outputs": [],
   "source": [
    "Operators = Ops\n",
    "Operators.dot = (nbA,nbB)=>{\n",
    "  const _dot$1d = (sA, sB, nS)=>{\n",
    "    let newShape = [1], newValue = new Float32Array(1);\n",
    "    for(let v = 0; v < nS; v++){\n",
    "      newValue[0] += nbA.value[v]*nbB.value[v];  \n",
    "    }\n",
    "    return Numb(newValue, newShape);\n",
    "  }\n",
    "  const _dot$2d = (sA, sB, nS, pA, pB)=>{\n",
    "    let newShape = [ sA[0],sB[1] ];\n",
    "    let newValue = new Float32Array( nd.getVolume(newShape) );\n",
    "    const selector = newShape.map(d=>[0,d,1]);\n",
    "    for(let px of nd.indexGenerator(selector, nd.getSpace(newShape) ) ){\n",
    "      let aVx  = 0, bVx = 0, vx = px.vx, r = px.idx[0], c = px.idx[1];\n",
    "      for(let v = 0; v < nS; v += 1){\n",
    "        aVx = r*pA[0] + v;\n",
    "        bVx = c + v*pB[0];\n",
    "        newValue[vx] += nbA.value[aVx]*nbB.value[bVx];\n",
    "      }\n",
    "    } \n",
    "    return Numb(newValue, newShape);\n",
    "  }\n",
    "  const _checkShapeThenRun2 = (ndA, ndB)=>{\n",
    "    const sA = nbA.shape, sB = nbB.shape;\n",
    "    const pA = nbA.space, pB = nbB.space;\n",
    "    if(sA.length == 1 && sB.length == 1){\n",
    "      const nS = sA[0]===sB[0]?sA[0]:null;\n",
    "      if(nS===null){ throw Error( 'shape not consitent' ) }  \n",
    "      return _dot$1d(sA, sB, nS);\n",
    "    }\n",
    "    else if(sA.length == 2 && sA.length == 2){\n",
    "      const nS = sA[1]===sB[0]?sA[1]:null;\n",
    "      return _dot$2d(sA, sB, nS, pA, pB);\n",
    "    }\n",
    "    else if(sA.length == 1 && sB.length == 2)\n",
    "    else if(sA.length > 2 && sB.length == 2){\n",
    "      const sA$l = sA.length;\n",
    "      const nS = sA[sA$l - 1]===sB[0]?sA[sA$l - 1]:null;\n",
    "      if(nS===null){ throw Error( 'shape not consitent' ) }  \n",
    "      let newShape = [ ...sA.slice(0,-1), sB[1] ];\n",
    "      let newValue = new Float32Array( nd.getVolume(newShape) );\n",
    "      let ret = Numb(newValue, newShape);   \n",
    "      // console.log('newShape', newShape);\n",
    "      let selector = sA.map((d,i)=>(i < (sA$l - 2))?[0,d,1]:d);\n",
    "      let leftSelect;\n",
    "      for(let px of nd.indexGenerator(selector, sA)){\n",
    "        leftSelect = px.idx.slice(0,-2).join(',') + ',:,:';\n",
    "        // console.warn('loop', leftSelect);\n",
    "        // console.warn(ndA.v[leftSelect]);\n",
    "        let _innerRet = Operators.dot(ndA.v[leftSelect], ndB);\n",
    "        // console.warn(_innerRet);\n",
    "        ret.v[leftSelect] = _innerRet;\n",
    "      }\n",
    "      return ret;\n",
    "    }\n",
    "    // else if(sA.length == 2 && sB.length == 2){\n",
    "    //   const sA$l = sA.length;\n",
    "    //   const nS = sA[sA$l - 1]===sB[0]?sA[sA$l - 1]:null;\n",
    "    //   if(nS===null){ throw Error( 'shape not consitent' ) }  \n",
    "    //   let newShape = [ ...sA.slice(0,-1), sB[1] ];\n",
    "    //   let newValue = new Float32Array( nd.getVolume(newShape) );\n",
    "    //   let ret = Numb(newValue, newShape);   \n",
    "    //   // console.log('newShape', newShape);\n",
    "    //   let selector = sA.map((d,i)=>(i < (sA$l - 2))?[0,d,1]:d);\n",
    "    //   let leftSelect;\n",
    "    //   for(let px of nd.indexGenerator(selector, sA)){\n",
    "    //     leftSelect = px.idx.slice(0,-2).join(',') + ',:,:';\n",
    "    //     // console.warn('loop', leftSelect);\n",
    "    //     // console.warn(ndA.v[leftSelect]);\n",
    "    //     let _innerRet = Operators.dot(ndA.v[leftSelect], ndB);\n",
    "    //     // console.warn(_innerRet);\n",
    "    //     ret.v[leftSelect] = _innerRet;\n",
    "    //   }\n",
    "    //   return ret;\n",
    "    // }\n",
    "    else if(sA.length > 2 && sB.length > 2){\n",
    "      const sA$l = sA.length, sB$l = sB.length;\n",
    "      const nS = sA[sA$l - 1]===sB[sB$l - 2]?sA[sA$l - 1]:null;\n",
    "      if(nS===null){ throw Error( 'shape not consitent' ) }  \n",
    "      let newShape = [  ...sA.slice(0,-1), \n",
    "                        ...sB.slice(0,-2), \n",
    "                        ...sB.slice(-1)   ];\n",
    "      let newValue = new Float32Array( nd.getVolume(newShape) );\n",
    "      let ret = Numb(newValue, newShape);   \n",
    "      // console.log('newShape', newShape);\n",
    "      let leftSelector  = sA.map((d,i)=>(i<(sA$l-2))?[0,d,1]:d);\n",
    "      let rightSelector = sB.map((d,i)=>(i<(sB$l-2))?[0,d,1]:d);\n",
    "      let leftSelect, rightSelect, select;\n",
    "      for(let lpx of nd.indexGenerator(leftSelector, sA)){\n",
    "        leftSelect = lpx.idx.slice(0,-2).join(',');\n",
    "        for(let rpx of nd.indexGenerator(rightSelector, sB)){\n",
    "          rightSelect = rpx.idx.slice(0,-2).join(',');\n",
    "          select = leftSelect +',:,' + rightSelect + ',:';\n",
    "          // console.warn('loop', leftSelect, rightSelect, select);  \n",
    "          let _innerRet = Operators.dot(ndA.v[leftSelect], \n",
    "                                      ndB.v[rightSelect]);\n",
    "          // console.warn(_innerRet);\n",
    "          ret.v[select] = _innerRet;\n",
    "        }\n",
    "      }\n",
    "      return ret;\n",
    "    }\n",
    "    else{\n",
    "      throw Error( 'shape not consitent' );\n",
    "    }\n",
    "  }\n",
    "\n",
    "  const _checkShapeThenRun = (nbA, nbB)=>{\n",
    "    const sA = nbA.shape, sB = nbB.shape;\n",
    "    const pA = nbA.space, pB = nbB.space;\n",
    "    if(sA.length == 1 && sB.length == 1){\n",
    "      const nS = sA[0]===sB[0]?sA[0]:null;\n",
    "      if(nS===null){ throw Error( 'shape not consitent' ) }  \n",
    "      return _dot$1d(sA, sB, nS);\n",
    "    }\n",
    "    else if(sA.length == 2 && sA.length == 2){\n",
    "      const nS = sA[1]===sB[0]?sA[1]:null;\n",
    "      return _dot$2d(sA, sB, nS, pA, pB);\n",
    "    }\n",
    "  }\n",
    "\n",
    "  let ret = _checkShapeThenRun(nbA, nbB);\n",
    "  return ret;\n",
    "};"
   ]
  },
  {
   "cell_type": "code",
   "execution_count": null,
   "metadata": {},
   "outputs": [],
   "source": [
    "a = new Float32Array(1,2)"
   ]
  },
  {
   "cell_type": "code",
   "execution_count": null,
   "metadata": {},
   "outputs": [],
   "source": [
    "Array.isArray(a)"
   ]
  },
  {
   "cell_type": "code",
   "execution_count": null,
   "metadata": {},
   "outputs": [],
   "source": [
    "v = new Float32Array(2)\n",
    "a = Numb(v,[2,3])"
   ]
  },
  {
   "cell_type": "code",
   "execution_count": null,
   "metadata": {},
   "outputs": [],
   "source": [
    "nd.getVolume([2])"
   ]
  },
  {
   "cell_type": "code",
   "execution_count": null,
   "metadata": {},
   "outputs": [],
   "source": [
    "Ops.add(a, 0)"
   ]
  },
  {
   "cell_type": "code",
   "execution_count": null,
   "metadata": {},
   "outputs": [],
   "source": [
    "Ops.add.toString()"
   ]
  },
  {
   "cell_type": "code",
   "execution_count": null,
   "metadata": {},
   "outputs": [],
   "source": [
    "function Numb(){\n",
    "    \n",
    "}"
   ]
  },
  {
   "cell_type": "code",
   "execution_count": null,
   "metadata": {},
   "outputs": [],
   "source": [
    "Numb.isNumb = ()=>{\n",
    "    return true\n",
    "}"
   ]
  },
  {
   "cell_type": "code",
   "execution_count": null,
   "metadata": {},
   "outputs": [],
   "source": [
    "Numb.isNumb()"
   ]
  },
  {
   "cell_type": "code",
   "execution_count": null,
   "metadata": {},
   "outputs": [],
   "source": [
    "Numb"
   ]
  },
  {
   "cell_type": "code",
   "execution_count": null,
   "metadata": {},
   "outputs": [],
   "source": []
  }
 ],
 "metadata": {
  "kernelspec": {
   "display_name": "Javascript (Node.js)",
   "language": "javascript",
   "name": "javascript"
  },
  "language_info": {
   "file_extension": ".js",
   "mimetype": "application/javascript",
   "name": "javascript",
   "version": "8.2.1"
  }
 },
 "nbformat": 4,
 "nbformat_minor": 2
}
